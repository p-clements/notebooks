{
 "cells": [
  {
   "cell_type": "code",
   "execution_count": 1,
   "id": "f4783cf8-834b-43ea-ad9a-498cbdf31c03",
   "metadata": {},
   "outputs": [
    {
     "name": "stdout",
     "output_type": "stream",
     "text": [
      "Hello World\n"
     ]
    }
   ],
   "source": [
    "print(\"Hello World\")"
   ]
  },
  {
   "cell_type": "code",
   "execution_count": 2,
   "id": "3c993f24-d167-4df8-8813-5373da300a85",
   "metadata": {},
   "outputs": [
    {
     "name": "stdout",
     "output_type": "stream",
     "text": [
      "/Users/peterclements/.pyenv/versions/3.13.5/bin/python\n"
     ]
    }
   ],
   "source": [
    "!which python"
   ]
  },
  {
   "cell_type": "code",
   "execution_count": null,
   "id": "25ef4488",
   "metadata": {},
   "outputs": [
    {
     "name": "stdout",
     "output_type": "stream",
     "text": [
      "Empty DataFrame\n",
      "Columns: [Card, Icon, Rarity, Card Type, Up, Right, Down, Left, NPC Reward, Acquired By]\n",
      "Index: []\n"
     ]
    }
   ],
   "source": [
    "import requests\n",
    "from bs4 import BeautifulSoup\n",
    "import pandas as pd  # import pandas\n",
    "\n",
    "# Attempt to fetch the webpage content again\n",
    "url = \"https://ffxiv.consolegameswiki.com/wiki/Triple_Triad_Cards\"\n",
    "response = requests.get(url)\n",
    "soup = BeautifulSoup(response.content, \"html.parser\")\n",
    "\n",
    "# Extract the table rowsgit remote -v\n",
    "table = soup.find(\"table\", {\"class\": \"sortable\"})\n",
    "rows = table.find_all(\"tr\")\n",
    "\n",
    "# Parse the table data\n",
    "data = []\n",
    "for row in rows[1:]:  # skip the header\n",
    "    cols = row.find_all(\"td\")\n",
    "    if len(cols) == 10:\n",
    "        card = cols[0].text.strip()\n",
    "        icon = cols[1].find('img')['src'] if cols[1].find('img') else ''\n",
    "        rarity = cols[2].text.strip()\n",
    "        card_type = cols[3].text.strip()\n",
    "        up = cols[4].text.strip()\n",
    "        right = cols[5].text.strip()\n",
    "        down = cols[6].text.strip()\n",
    "        left = cols[7].text.strip()\n",
    "        npc_reward = cols[8].text.strip()\n",
    "        acquired_by = cols[9].text.strip()\n",
    "        data.append([card, icon, rarity, card_type, up, right, down, left, npc_reward, acquired_by])\n",
    "\n",
    "# Define the column names\n",
    "columns = ['Card', 'Icon', 'Rarity', 'Card Type', 'Up', 'Right', 'Down', 'Left', 'NPC Reward', 'Acquired By']\n",
    "\n",
    "# Create the DataFrame\n",
    "df_full = pd.DataFrame(data, columns=columns)\n",
    "\n",
    "print(df_full)"
   ]
  },
  {
   "cell_type": "code",
   "execution_count": 4,
   "id": "e8bfb093",
   "metadata": {},
   "outputs": [
    {
     "name": "stdout",
     "output_type": "stream",
     "text": [
      "       #                      Card  \\\n",
      "0    308                   2B Card   \n",
      "1    286                   2P Card   \n",
      "2    311  4th-make Cuchulainn Card   \n",
      "3    310   4th-make Shemhazai Card   \n",
      "4    268                   9S Card   \n",
      "..   ...                       ...   \n",
      "435  384              Zeromus Card   \n",
      "436   *9        Zidane Tribal Card   \n",
      "437  329              Zodiark Card   \n",
      "438  404            Zoraal Ja Card   \n",
      "439  166               Zurvan Card   \n",
      "\n",
      "                                                  Icon  Rarity Card Type Up  \\\n",
      "0             /mediawiki/images/e/eb/2b_card_icon1.png       5      None  6   \n",
      "1             /mediawiki/images/4/4f/2p_card_icon1.png       5      None  4   \n",
      "2    /mediawiki/images/2/2d/4th-make_cuchulainn_car...       3      None  8   \n",
      "3    /mediawiki/images/f/f1/4th-make_shemhazai_card...       3      None  1   \n",
      "4             /mediawiki/images/9/93/9s_card_icon1.png       5      None  4   \n",
      "..                                                 ...     ...       ... ..   \n",
      "435      /mediawiki/images/8/88/Zeromus_card_icon1.png       5      None  9   \n",
      "436  /mediawiki/images/2/2c/Zidane_tribal_card_icon...       5      None  5   \n",
      "437      /mediawiki/images/1/1a/Zodiark_card_icon1.png       5    Primal  5   \n",
      "438    /mediawiki/images/b/bf/Zoraal_ja_card_icon1.png       5      None  9   \n",
      "439       /mediawiki/images/f/f7/Zurvan_card_icon2.png       5    Primal  3   \n",
      "\n",
      "    Right Down Left NPC Reward                     Acquired By  \n",
      "0       A    4    8             The Tower at Paradigm's Breach  \n",
      "1       8    A    6                        The Puppets' Bunker  \n",
      "2       1    7    6    Sladkey                                  \n",
      "3       6    7    8    Sladkey                                  \n",
      "4       8    6    A                         The Copied Factory  \n",
      "..    ...  ...  ...        ...                             ...  \n",
      "435     9    9    1                       The Abyssal Fracture  \n",
      "436     A    6    8                                             \n",
      "437     A    3    A                            The Dark Inside  \n",
      "438     8    5    7                                   Everkeep  \n",
      "439     7    8    A                       Containment Bay Z1T9  \n",
      "\n",
      "[440 rows x 11 columns]\n"
     ]
    }
   ],
   "source": [
    "import requests\n",
    "from bs4 import BeautifulSoup\n",
    "import pandas as pd\n",
    "\n",
    "url = \"https://ffxiv.consolegameswiki.com/wiki/Triple_Triad_Cards\"\n",
    "response = requests.get(url)\n",
    "soup = BeautifulSoup(response.content, \"html.parser\")\n",
    "\n",
    "table = soup.find(\"table\", {\"class\": \"sortable\"})\n",
    "rows = table.find_all(\"tr\")\n",
    "\n",
    "data = []\n",
    "for row in rows[1:]:  # skip the header\n",
    "    cols = row.find_all(\"td\")\n",
    "    if len(cols) == 11:\n",
    "        record_number = cols[0].text.strip()\n",
    "        card = cols[1].find('a').text.strip()\n",
    "        icon = cols[2].find('img')['src'] if cols[2].find('img') else ''\n",
    "        rarity = cols[3].contents[0].strip()\n",
    "        card_type = cols[4].text.strip()\n",
    "        up = cols[5].text.strip()\n",
    "        right = cols[6].text.strip()\n",
    "        down = cols[7].text.strip()\n",
    "        left = cols[8].text.strip()\n",
    "        npc_reward = cols[9].text.strip()\n",
    "        acquired_by = cols[10].find('a').text.strip() if cols[10].find('a') else ''\n",
    "        data.append([record_number, card, icon, rarity, card_type, up, right, down, left, npc_reward, acquired_by])\n",
    "\n",
    "columns = ['#', 'Card', 'Icon', 'Rarity', 'Card Type', 'Up', 'Right', 'Down', 'Left', 'NPC Reward', 'Acquired By']\n",
    "df_full = pd.DataFrame(data, columns=columns)\n",
    "df_full['Rarity'] = df_full['Rarity'].apply(lambda x: x.count('★'))\n",
    "\n",
    "print(df_full)"
   ]
  },
  {
   "cell_type": "code",
   "execution_count": 5,
   "id": "c26e329b",
   "metadata": {},
   "outputs": [
    {
     "name": "stdout",
     "output_type": "stream",
     "text": [
      "The estimated daily theta for the call option is: -1.8700\n"
     ]
    }
   ],
   "source": [
    "import numpy as np\n",
    "from scipy.stats import norm\n",
    "from math import log, sqrt, exp\n",
    "\n",
    "# Black-Scholes Formula Components\n",
    "def d1(S, K, T, r, sigma):\n",
    "    return (log(S / K) + (r + 0.5 * sigma ** 2) * T) / (sigma * sqrt(T))\n",
    "\n",
    "def theta_call(S, K, T, r, sigma):\n",
    "    D1 = d1(S, K, T, r, sigma)\n",
    "    D2 = D1 - sigma * sqrt(T)\n",
    "    term1 = - (S * norm.pdf(D1) * sigma) / (2 * sqrt(T))\n",
    "    term2 = r * K * exp(-r * T) * norm.cdf(D2)\n",
    "    return (term1 - term2) / 365  # Convert to daily theta\n",
    "\n",
    "# Parameters\n",
    "S = 1221    # Current stock price\n",
    "K = 1245    # Strike price\n",
    "T = 2 / 365  # Time to expiration in years\n",
    "r = 0.01    # Risk-free rate (annual)\n",
    "sigma = 0.30  # Volatility (annual)\n",
    "\n",
    "# Calculate Theta\n",
    "theta = theta_call(S, K, T, r, sigma)\n",
    "print(f\"The estimated daily theta for the call option is: {theta:.4f}\")"
   ]
  },
  {
   "cell_type": "code",
   "execution_count": 8,
   "id": "b4b1818b",
   "metadata": {},
   "outputs": [
    {
     "name": "stdout",
     "output_type": "stream",
     "text": [
      "The estimated daily charm for the call option is: -0.0612\n"
     ]
    }
   ],
   "source": [
    "import numpy as np\n",
    "from scipy.stats import norm\n",
    "from math import log, sqrt, exp\n",
    "\n",
    "def d1(S, K, T, r, sigma):\n",
    "    return (log(S / K) + (r + 0.5 * sigma ** 2) * T) / (sigma * sqrt(T))\n",
    "\n",
    "def d2(S, K, T, r, sigma):\n",
    "    return d1(S, K, T, r, sigma) - sigma * sqrt(T)\n",
    "\n",
    "def delta(S, K, T, r, sigma):\n",
    "    D1 = d1(S, K, T, r, sigma)\n",
    "    return norm.cdf(D1)\n",
    "\n",
    "def charm(S, K, T, r, sigma):\n",
    "    D1 = d1(S, K, T, r, sigma)\n",
    "    D2 = d2(S, K, T, r, sigma)\n",
    "    term1 = -norm.pdf(D1) * ((2 * r * T - D2 * sigma * sqrt(T)) / (2 * T * sigma * sqrt(T)))\n",
    "    return term1 / 365  # Convert to daily charm\n",
    "\n",
    "# Input parameters\n",
    "S = 1221    # Current stock price\n",
    "K = 1245    # Strike price\n",
    "T = 2 / 365  # Time to expiration in years\n",
    "r = 0.01    # Risk-free rate (annual)\n",
    "sigma = 0.30  # Volatility (annual)\n",
    "\n",
    "# Calculate Charm\n",
    "option_charm = charm(S, K, T, r, sigma)\n",
    "print(f\"The estimated daily charm for the call option is: {option_charm:.4f}\")"
   ]
  },
  {
   "cell_type": "code",
   "execution_count": 9,
   "id": "d2b5ebdb",
   "metadata": {},
   "outputs": [
    {
     "name": "stdout",
     "output_type": "stream",
     "text": [
      "/Users/peterclements/.pyenv/versions/3.13.3/bin/python3\n"
     ]
    }
   ],
   "source": [
    "!which python3"
   ]
  }
 ],
 "metadata": {
  "kernelspec": {
   "display_name": "3.13.5",
   "language": "python",
   "name": "python3"
  },
  "language_info": {
   "codemirror_mode": {
    "name": "ipython",
    "version": 3
   },
   "file_extension": ".py",
   "mimetype": "text/x-python",
   "name": "python",
   "nbconvert_exporter": "python",
   "pygments_lexer": "ipython3",
   "version": "3.13.5"
  }
 },
 "nbformat": 4,
 "nbformat_minor": 5
}
